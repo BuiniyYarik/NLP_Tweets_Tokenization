{
 "cells": [
  {
   "cell_type": "markdown",
   "metadata": {
    "id": "RKboZnAdgrRM"
   },
   "source": [
    "# [NLP] Assignment 1: Tokenization\n",
    "\n",
    "In this assignment, you need to tokenize the text of the Twitter(X) users posts(tweets). The assignment consists of two tasks. When you finish all the tasks, create a GitHub repository for this assignment (you can use this repo later for the other assignments) and submit this notebook in the repository. Leave `requirements.txt` file if your code requires additional installations. Submit the link to the repository in Moodle.\n",
    "\n",
    "The [data](https://drive.google.com/file/d/15x_wPAflvYQ2Xh38iNQGrqUIWLj5l5Nw/view?usp=share_link) contains 5 files whereby each contains 44 tweets. Each tweet is separated by a newline."
   ]
  },
  {
   "cell_type": "markdown",
   "metadata": {
    "id": "aLDjjAvemUP_"
   },
   "source": [
    "## Task 1. Tokenize some tweets manually (20 points)\n",
    "\n",
    "As a first task you need to tokenize first 15 tweets from `file2` by hand. This will allow you to understand the problem from a linguistic point of view. The guidelines for tweet tokenization are as follows:\n",
    "\n",
    "- Each smiley is a separate token\n",
    "- Each hashtag is an individual token. Each user reference is an individual token\n",
    "- If a word has spaces between them then it is converted to a single token\n",
    "- All punctuations are individual tokens. This includes double-quotes and single quotes also\n",
    "- A URL is a single token\n",
    "\n",
    "Example of output\n",
    "\n",
    "    Input tweet\n",
    "    @xfranman Old age has made N A T O!\n",
    "\n",
    "    Tokenized tweet (separated by comma)\n",
    "    @xfranman , Old , age , has , made , NATO , !"
   ]
  },
  {
   "cell_type": "markdown",
   "metadata": {
    "id": "7KKKwTidnzUw"
   },
   "source": [
    "    1. Input tweet:\n",
    "    Camping in Maine for the weekend. Hey Dad, Mama Loves YOU: http://www.mamapalooza.com\n",
    "\n",
    "    1. Tokenized tweet: \n",
    "    Camping , in , Maine , for , the , weekend , . , Hey , Dad , , , Mama , Loves , YOU , : , http://www.mamapalooza.com\n",
    "    \n",
    "    \n",
    "    2. Input tweet:\n",
    "    Its american tradition bitch\n",
    "    \n",
    "    2. Tokenized tweet:\n",
    "    Its , american , tradition , bitch\n",
    "    \n",
    "    \n",
    "    3. Input tweet:\n",
    "    @ThroughTheVoid They love it! The only pleasure they get in life. I actually do that. I'm sure I hear a tiny squeak... Then louder ones\n",
    "    \n",
    "    3. Tokenized tweet:\n",
    "    @ThroughTheVoid , They , love , it , ! , The , only , pleasure , they , get , in , life , . , I , actually , do , that , . , I , ' , m , sure , I , hear , a , tiny , squeak , . , . , . , Then , louder , ones\n",
    "    \n",
    "\n",
    "    4. Input tweet:\n",
    "    \" RT @latti: @AbsoHilare stop tweeting in church! Lol <--- \"\"I tweet because I'm happy, I tweet because I'm free\"\" LOL!\"\n",
    "    \n",
    "    4. Tokenized tweet:\n",
    "    \", RT , @latti , : , @AbsoHilare , stop , tweeting , in , church , ! , Lol , < , - , - , - , \" , \" , I , tweet , because , I , ' , m , happy , , , I , tweet , because , I , ' , m , free , \" , \" , LOL , ! , \"\n",
    "\n",
    "\n",
    "    5. Input tweet:\n",
    "    Samsung Mini S2 portable HDD graced with colors that perfectly match your tacky beach gear: Sammy's done it aga.. http://tinyurl.com/lb5p6m\n",
    "\n",
    "    5. Tokenized tweet:\n",
    "    Samsung , Mini , S2 , portable , HDD , graced , with , colors , that , perfectly , match , your , tacky , beach , gear , : , Sammy , ' , s , done , it , aga , . , . , http://tinyurl.com/lb5p6m\n",
    "    \n",
    "\n",
    "    6. Input tweet:\n",
    "    @dialloc congrats on finding your way over. it may be slow going at first. hang in there. it's kinda cool when u get up to speed.\n",
    "\n",
    "    6. Tokenized tweet:\n",
    "    @dialloc , congrats , on , finding , your , way , over , . , it , may , be , slow , going , at , first , . , hang , in , there , . , it , ' , s , kinda , cool , when , u , get , up , to , speed , .\n",
    "    \n",
    "\n",
    "    7. Input tweet:\n",
    "    iPhone activation delays continue, Apple offers $30 http://twt.gs/l3Ki\n",
    "\n",
    "    7. Tokenized tweet:\n",
    "    iPhone , activation , delays , continue , , , Apple , offers , $30 , http://twt.gs/l3Ki\n",
    "    \n",
    "\n",
    "    8. Input tweet:\n",
    "    RT @GoogleAtWork Gmail maximum attachment size now 25MB http://bit.ly/62mjw Nice!!!\n",
    "\n",
    "    8. Tokenized tweet:\n",
    "    RT , @GoogleAtWork , Gmail , maximum , attachment , size , now , 25MB , http://bit.ly/62mjw , Nice , ! , ! , !\n",
    "    \n",
    "\n",
    "    9. Input tweet:\n",
    "    RT @acfou The Ads Won Awards for Crispin; But Did Nothing for Client BurgerKing's Sales/Marketshare - Big Surprise - http://ping.fm/vw8TI\n",
    "\n",
    "    9. Tokenized tweet:\n",
    "    RT , @acfou , The , Ads , Won , Awards , for , Crispin , ; , But , Did , Nothing , for , Client , BurgerKing , ' , s , Sales , / , Marketshare , - , Big , Surprise , - , http://ping.fm/vw8TI\n",
    "    \n",
    "\n",
    "    10. Input tweet:\n",
    "    Hey doll! Great I missed True Blood yday boo lol Rt @FrankBanuat78 @jhillstephens Hello Sunshine how are u today? :-)\n",
    "\n",
    "    10. Tokenized tweet:\n",
    "    Hey , doll , ! , Great , I , missed , True , Blood , yday , boo , lol , Rt , @FrankBanuat78 , @jhillstephens , Hello , Sunshine , how , are , u , today , ? , :-)\n",
    "    \n",
    "\n",
    "    11. Input tweet:\n",
    "    Australian artist Pogo made these free songs primarily from sampled audio from Alice In Wonderland. http://www.last.fm/music/Pogo/Wonderland\n",
    "\n",
    "    11. Tokenized tweet:\n",
    "    Australian , artist , Pogo , made , these , free , songs , primarily , from , sampled , audio , from , Alice , In , Wonderland , . , http://www.last.fm/music/Pogo/Wonderland\n",
    "    \n",
    "\n",
    "    12. Input tweet:\n",
    "    @mppritchard they wanted to sell all the preorders & then sell all of the ones they had in stock to those that just walked in. Can't do both\n",
    "\n",
    "    12. Tokenized tweet:\n",
    "    @mppritchard , they , wanted , to , sell , all , the , preorders , &, then , sell , all , of , the , ones , they , had , in , stock , to , those , that , just , walked , in , . , Can't , do , both\n",
    "    \n",
    "\n",
    "    13. Input tweet:\n",
    "    Incoming: Frightened Rabbit, Sept. 22 (Tucson): If Fat Cat Records is going to send three great bands from Scot.. http://tinyurl.com/nz6xcv\n",
    "\n",
    "    13. Tokenized tweet:\n",
    "    Incoming , : , Frightened , Rabbit , , , Sept , . , 22 , ( , Tucson , ) , : , If , Fat , Cat , Records , is , going , to , send , three , great , bands , from , Scot , . , . , http://tinyurl.com/nz6xcv\n",
    "    \n",
    "\n",
    "    14. Input tweet:\n",
    "    Hey @ginoandfran please greet philip! (GinoandFran live > http://ustre.am/2YyQ)\n",
    "\n",
    "    14. Tokenized tweet:\n",
    "    Hey , @ginoandfran , please , greet , philip , ! , ( , GinoandFran , live , > , http://ustre.am/2YyQ , )\n",
    "    \n",
    "\n",
    "    15. Input tweet:\n",
    "    Ik weet niet wie er achter de T-Mobile iPhone Twitter zit maar ik vind het niet echt 'corporate' taalgebruik... Best vreemd eigenlijk\n",
    "\n",
    "    15. Tokenized tweet:\n",
    "    Ik , weet , niet , wie , er , achter , de , T-Mobile , iPhone , Twitter , zit , maar , ik , vind , het , niet , echt , ' , corporate , ' , taalgebruik , . , . , . , Best , vreemd , eigenlijk\n",
    "    "
   ]
  },
  {
   "cell_type": "markdown",
   "metadata": {
    "id": "-2J2AD2nmUhi"
   },
   "source": [
    "## Task 2. Implement [Byte-Pair Encoding(BPE)](https://arxiv.org/pdf/1508.07909.pdf) Tokenizer (80 points)\n",
    "\n",
    "### Task 2.1. Implementation (60 points)\n",
    "\n",
    "Implement the tokenizer as the BPETokenizer class:\n",
    "* Implement `train` method that learns merges and builds the vocabulary of the specified `vocab_size` (25 points).\n",
    "* Implement `tokenize` method that should tokenize the text according to the learnt merges (25 points).\n",
    "\n",
    "Your code should have docstrings and comments (10 points)."
   ]
  },
  {
   "cell_type": "code",
   "metadata": {
    "ExecuteTime": {
     "end_time": "2024-02-15T21:44:14.245171700Z",
     "start_time": "2024-02-15T21:44:14.209171600Z"
    }
   },
   "outputs": [],
   "source": [
    "import re\n",
    "from collections import Counter\n",
    "from typing import List, Dict, Tuple\n",
    "\n",
    "\n",
    "class BPETokenizer:\n",
    "    def __init__(self, vocab_size: int) -> None:\n",
    "        self.vocab_size = vocab_size\n",
    "        self.vocab = {}\n",
    "        self.merges = {}\n",
    "\n",
    "\n",
    "    def _build_init_vocab(self, corpus: List[str]) -> Dict[str, int]:\n",
    "        \"\"\"\n",
    "        Builds the initial vocabulary from the corpus treating each unique token as an entry\n",
    "        \n",
    "        Parameters:\n",
    "        corpus (List[str]): The list of input texts to build the vocabulary from\n",
    "        \n",
    "        Returns:\n",
    "        vocab (Dict[str, int]): The dictionary of unique tokens and their frequencies\n",
    "        \"\"\"\n",
    "        vocab = Counter()\n",
    "        for sentence in corpus:\n",
    "            words = sentence.split()\n",
    "            for word in words:\n",
    "                vocab[' '.join(list(word)) + ' </w>'] += 1\n",
    "        return vocab\n",
    "\n",
    "\n",
    "    def _find_best_pair(self, vocab: Dict[str, int]) -> Tuple[str, str]:\n",
    "        \"\"\"\n",
    "        Finds the most frequent pair of adjacent symbols in the vocabulary\n",
    "        \n",
    "        Parameters:\n",
    "        vocab (Dict[str, int]): The dictionary of unique tokens and their frequencies\n",
    "        \n",
    "        Returns:\n",
    "        pair (Tuple[str, str]): The most frequent pair of adjacent symbols\n",
    "        \"\"\"\n",
    "        pairs = Counter()\n",
    "        for word, freq in vocab.items():\n",
    "            symbols = word.split()\n",
    "            for i in range(len(symbols)-1):\n",
    "                pairs[symbols[i], symbols[i+1]] += freq\n",
    "        return pairs.most_common(1)[0][0]\n",
    "\n",
    "\n",
    "    def _merge_vocab(self, pair: Tuple[str, str], vocab: Dict[str, int]) -> Dict[str, int]:\n",
    "        \"\"\"\n",
    "        Merges all occurrences of the most frequent pair\n",
    "        \n",
    "        Parameters:\n",
    "        pair (Tuple[str, str]): The most frequent pair of adjacent symbols\n",
    "        vocab (Dict[str, int]): The dictionary of unique tokens and their frequencies\n",
    "        \n",
    "        Returns:\n",
    "        new_vocab (Dict[str, int]): The updated dictionary of unique tokens and their frequencies\n",
    "        \"\"\"\n",
    "        new_vocab = {}\n",
    "        bigram = re.escape(' '.join(pair))\n",
    "        p = re.compile(r'(?<!\\S)' + bigram + r'(?!\\S)')\n",
    "        for word in vocab:\n",
    "            w_out = p.sub(''.join(pair), word)\n",
    "            new_vocab[w_out] = vocab[word]\n",
    "        return new_vocab\n",
    "\n",
    "\n",
    "    def train(self, corpus: List[str]) -> None:\n",
    "        \"\"\"\n",
    "        Trains the tokenizer on the corpus to learn the vocabulary and merges\n",
    "        \n",
    "        Parameters:\n",
    "        corpus (List[str]): The list of input texts to train the tokenizer on\n",
    "        \n",
    "        Returns:\n",
    "        None\n",
    "        \"\"\"\n",
    "        self.vocab = self._build_init_vocab(corpus)\n",
    "        while len(self.merges) < self.vocab_size:\n",
    "            best_pair = self._find_best_pair(self.vocab)\n",
    "            if not best_pair:\n",
    "                break\n",
    "            self.vocab = self._merge_vocab(best_pair, self.vocab)\n",
    "            self.merges[best_pair] = len(self.merges)\n",
    "\n",
    "\n",
    "    def tokenize(self, text: str) -> List[str]:\n",
    "        \"\"\"\n",
    "        Tokenizes the input text according to the learned merges and the tokenization rules\n",
    "        \n",
    "        Parameters:\n",
    "        text (str): The input text to be tokenized\n",
    "        \n",
    "        Returns:\n",
    "        text tokens (List[str]): The list of tokens obtained from the input text\n",
    "        \"\"\"\n",
    "        # Patterns based on the provided tokenization rules \n",
    "        patterns = {\n",
    "            \"hashtags_and_user_references\": (r'([@#][\\w_-]+)', r' \\1 '),\n",
    "            \"punctuations\": (r'([^\\w\\s])', r' \\1 '),\n",
    "            \"urls\": (r'(http\\S+)', r' \\1 '),\n",
    "        }\n",
    "\n",
    "        # Iterate over the patterns and apply each substitution\n",
    "        for pattern_name, (pattern, replacement) in patterns.items():\n",
    "            text = re.sub(pattern, replacement, text)\n",
    "    \n",
    "        if text in self.vocab:\n",
    "            return text.split()\n",
    "        for pair in self.merges:\n",
    "            bigram = re.escape(' '.join(pair))\n",
    "            text = re.sub(r'(?<!\\S)' + bigram + r'(?!\\S)', ''.join(pair), text)\n",
    "        return text.split()"
   ],
   "execution_count": 102
  },
  {
   "cell_type": "markdown",
   "metadata": {},
   "source": [
    "### Task 2.2. Analysis on Tweets Dataset (10 points)\n",
    "\n",
    "Train the BPE tokenizer on the tweets dataset. Try to tokenize the tweets with the tokenizer of different `vocab_size`. For example, train the BPE tokenizer with `vocab_size` of [base_vocab_size, 250, 500, 750, 1000]. Plot the dependency of the average length of the tokenized tweet by `vocab_size` to analyze how `vocab_size` affects the length of the tokenized tweet on average. Tell what `vocab_size` is preferrable and why."
   ]
  },
  {
   "metadata": {},
   "cell_type": "markdown",
   "source": [
    "##### Load the tweets from the files"
   ]
  },
  {
   "cell_type": "code",
   "metadata": {
    "ExecuteTime": {
     "end_time": "2024-02-15T21:44:14.249171400Z",
     "start_time": "2024-02-15T21:44:14.232171700Z"
    }
   },
   "outputs": [],
   "source": [
    "def load_tweets(file_paths: List[str]) -> List[str]:\n",
    "    \"\"\"\n",
    "    Loads the tweets from the specified files\n",
    "    \n",
    "    Parameters:\n",
    "    file_paths (List[str]): The list of file paths to load the tweets from\n",
    "    \n",
    "    Returns:\n",
    "    tweets (List[str]): The list of tweets loaded from the files\n",
    "    \"\"\"\n",
    "    tweets = []\n",
    "    for file_path in file_paths:\n",
    "        with open(file_path, 'r', encoding='utf-8') as file:\n",
    "            tweets += file.read().splitlines()\n",
    "    return tweets"
   ],
   "execution_count": 103
  },
  {
   "metadata": {
    "ExecuteTime": {
     "end_time": "2024-02-15T21:44:14.266172100Z",
     "start_time": "2024-02-15T21:44:14.248171500Z"
    }
   },
   "cell_type": "code",
   "outputs": [],
   "source": [
    "# Load the tweets from the files\n",
    "file_paths = ['data/file1', 'data/file2', 'data/file3', 'data/file4', 'data/file5']\n",
    "corpus = load_tweets(file_paths)"
   ],
   "execution_count": 104
  },
  {
   "metadata": {},
   "cell_type": "markdown",
   "source": [
    "##### Train the BPE tokenizer and tokenize the tweets"
   ]
  },
  {
   "metadata": {
    "ExecuteTime": {
     "end_time": "2024-02-15T21:44:14.296171500Z",
     "start_time": "2024-02-15T21:44:14.267172100Z"
    }
   },
   "cell_type": "code",
   "outputs": [],
   "source": [
    "# Define the vocabulary sizes to analyze\n",
    "vocab_sizes = [10, 50, 100, 250, 500, 1000, 3000, 5000]\n",
    "average_token_lengths = []"
   ],
   "execution_count": 105
  },
  {
   "metadata": {
    "ExecuteTime": {
     "end_time": "2024-02-15T21:46:02.156686300Z",
     "start_time": "2024-02-15T21:44:14.282172900Z"
    }
   },
   "cell_type": "code",
   "outputs": [],
   "source": [
    "# Train the BPE tokenizer with different vocabulary sizes and tokenize the tweets\n",
    "for vocab_size in vocab_sizes:\n",
    "    tokenizer = BPETokenizer(vocab_size=vocab_size)\n",
    "    tokenizer.train(corpus)\n",
    "\n",
    "    tokenized_tweets = [tokenizer.tokenize(tweet) for tweet in corpus]\n",
    "    average_length = sum(len(tweet) for tweet in tokenized_tweets) / len(tokenized_tweets)\n",
    "    average_token_lengths.append(average_length)"
   ],
   "execution_count": 106
  },
  {
   "metadata": {},
   "cell_type": "markdown",
   "source": [
    "##### Plot the dependency of the average length of the tokenized tweet by `vocab_size`"
   ]
  },
  {
   "metadata": {
    "ExecuteTime": {
     "end_time": "2024-02-15T21:46:02.172224500Z",
     "start_time": "2024-02-15T21:46:02.157686700Z"
    }
   },
   "cell_type": "code",
   "outputs": [],
   "source": [
    "import matplotlib.pyplot as plt"
   ],
   "execution_count": 107
  },
  {
   "metadata": {
    "ExecuteTime": {
     "end_time": "2024-02-15T21:46:02.249225Z",
     "start_time": "2024-02-15T21:46:02.172224500Z"
    }
   },
   "cell_type": "code",
   "outputs": [
    {
     "data": {
      "text/plain": [
       "<Figure size 640x480 with 1 Axes>"
      ],
      "image/png": "[encoded data removed]"
     },
     "metadata": {},
     "output_type": "display_data"
    }
   ],
   "source": [
    "plt.plot(vocab_sizes, average_token_lengths, marker='o')\n",
    "plt.xlabel('Vocabulary Size')\n",
    "plt.ylabel('Average Tokenized Tweet Length')\n",
    "plt.title('Effect of Vocabulary Size on Tokenized Tweet Length')\n",
    "plt.grid(True)\n",
    "plt.show()"
   ],
   "execution_count": 108
  },
  {
   "metadata": {},
   "cell_type": "markdown",
   "source": [
    "##### Analysis and conclusions\n",
    "The plot demonstrated that the average length of the tokenized tweets decreases as the vocabulary size increases because the tokenizer will be able to merge more common pairs into single token.\n",
    "The ideal `vocab_size` balances between not too large (to avoid overly specific tokens that might only occur in the training data) and not too small (to ensure a sufficient level of detail and reduce the tokenized tweet length)"
   ]
  },
  {
   "cell_type": "markdown",
   "metadata": {},
   "source": [
    "### Task 2.3. Analysis on Dataset of Different Language (10 points)\n",
    "\n",
    "Find a small dataset of texts in a language other than English. The dataset size should be not greater than several megabytes.\n",
    "\n",
    "Train the BPE tokenizer on the dataset that you found. Try to tokenize the sentences from this dataset with the tokenizer of different `vocab_size`. Plot the dependency of the average length of the tokenized sentence by `vocab_size` to analyze how `vocab_size` affects the length of the tokenized sentence on average.\n",
    "\n",
    "Tell how the average length of the tokenized sentence differs from the average length of the tokenized tweet. Explain why. "
   ]
  },
  {
   "cell_type": "code",
   "metadata": {
    "ExecuteTime": {
     "end_time": "2024-02-15T21:46:02.292225100Z",
     "start_time": "2024-02-15T21:46:02.250225600Z"
    }
   },
   "outputs": [],
   "source": [
    "# Your code here"
   ],
   "execution_count": 109
  }
 ],
 "metadata": {
  "colab": {
   "provenance": [],
   "toc_visible": true
  },
  "kernelspec": {
   "display_name": "Python 3 (ipykernel)",
   "name": "python3",
   "language": "python"
  },
  "language_info": {
   "name": "python"
  }
 },
 "nbformat": 4,
 "nbformat_minor": 0
}
